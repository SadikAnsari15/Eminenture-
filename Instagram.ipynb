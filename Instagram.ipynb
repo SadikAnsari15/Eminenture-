{
 "cells": [
  {
   "cell_type": "markdown",
   "id": "e256284c",
   "metadata": {},
   "source": [
    "## Instagram\n",
    "We can extract all comments from a specific post."
   ]
  },
  {
   "cell_type": "code",
   "execution_count": 41,
   "id": "989eaaed",
   "metadata": {},
   "outputs": [
    {
     "name": "stdout",
     "output_type": "stream",
     "text": [
      "No comments found.\n",
      "Data extracted and saved successfully!\n"
     ]
    }
   ],
   "source": [
    "import os\n",
    "import time\n",
    "import random\n",
    "import openpyxl\n",
    "from selenium import webdriver\n",
    "from selenium.webdriver.common.by import By\n",
    "from selenium.webdriver.common.keys import Keys\n",
    "from selenium.webdriver.chrome.service import Service\n",
    "from selenium.webdriver.chrome.options import Options\n",
    "from webdriver_manager.chrome import ChromeDriverManager\n",
    "\n",
    "# Load Instagram credentials from environment variables (safer approach)\n",
    "USERNAME = os.getenv(\"INSTA_USERNAME\", \"sad*****\") # username\n",
    "PASSWORD = os.getenv(\"INSTA_PASSWORD\", \"abc*****\") # password \n",
    "\n",
    "# Instagram Post URL (Replace with the actual post)\n",
    "POST_URL = \"https://www.instagram.com/reel/DHqmr0dBamQ/?utm_source=ig_web_copy_link\"\n",
    "\n",
    "# WebDriver options to minimize bot detection\n",
    "options = Options()\n",
    "options.add_argument(\"--start-maximized\")\n",
    "options.add_argument(\"--disable-blink-features=AutomationControlled\")\n",
    "options.add_experimental_option(\"excludeSwitches\", [\"enable-automation\"])\n",
    "options.add_experimental_option(\"useAutomationExtension\", False)\n",
    "\n",
    "# Initialize WebDriver\n",
    "driver = webdriver.Chrome(service=Service(ChromeDriverManager().install()), options=options)\n",
    "\n",
    "def login():\n",
    "    \"\"\"Logs into Instagram\"\"\"\n",
    "    driver.get(\"https://www.instagram.com/accounts/login/\")\n",
    "    time.sleep(random.uniform(5, 7))  # Randomized delay\n",
    "\n",
    "    try:\n",
    "        username_input = driver.find_element(By.NAME, \"username\")\n",
    "        password_input = driver.find_element(By.NAME, \"password\")\n",
    "\n",
    "        username_input.send_keys(USERNAME)\n",
    "        password_input.send_keys(PASSWORD)\n",
    "        password_input.send_keys(Keys.RETURN)\n",
    "\n",
    "        time.sleep(random.uniform(5, 8))  # Wait for login to process\n",
    "\n",
    "    except Exception as e:\n",
    "        print(f\"Login failed: {e}\")\n",
    "        driver.quit()\n",
    "\n",
    "def scrape_post():\n",
    "    \"\"\"Scrapes likes and comments from a post\"\"\"\n",
    "    driver.get(POST_URL)\n",
    "    time.sleep(random.uniform(4, 6))\n",
    "\n",
    "    # Extract likes\n",
    "    likes = \"N/A\"\n",
    "    try:\n",
    "        likes_element = driver.find_element(By.XPATH, \"//section//span[contains(text(),' likes')]\")\n",
    "        likes = likes_element.text.split()[0]\n",
    "    except Exception:\n",
    "        print(\"Likes count not found.\")\n",
    "\n",
    "    # Click on comments section if available\n",
    "    try:\n",
    "        comment_section = driver.find_element(By.XPATH, \"//span[contains(text(),' comments')]\")\n",
    "        comment_section.click()\n",
    "        time.sleep(random.uniform(3, 5))\n",
    "    except:\n",
    "        print(\"No comments found.\")\n",
    "\n",
    "    # Extract comments\n",
    "    comments_data = []\n",
    "    try:\n",
    "        comments = driver.find_elements(By.XPATH, \"//ul[@role='presentation']//li\")\n",
    "        for comment in comments:\n",
    "            try:\n",
    "                username = comment.find_element(By.XPATH, \".//span/a\").text\n",
    "                comment_text = comment.find_element(By.XPATH, \".//span[@dir='auto']\").text\n",
    "                comments_data.append((username, comment_text))\n",
    "            except:\n",
    "                continue\n",
    "    except:\n",
    "        print(\"Error extracting comments.\")\n",
    "\n",
    "    return likes, comments_data\n",
    "\n",
    "def save_to_excel(likes, comments_data):\n",
    "    \"\"\"Saves extracted data to an Excel file\"\"\"\n",
    "    workbook = openpyxl.Workbook()\n",
    "    sheet = workbook.active\n",
    "    sheet.title = \"Instagram Data\"\n",
    "\n",
    "    # Headers\n",
    "    sheet.append([\"Likes\", \"Username\", \"Comment\"])\n",
    "\n",
    "    # Add likes count\n",
    "    sheet.append([likes, \"\", \"\"])\n",
    "\n",
    "    # Add comments\n",
    "    for username, comment in comments_data:\n",
    "        sheet.append([\"\", username, comment])\n",
    "\n",
    "    # Save file\n",
    "    workbook.save(\"Instagram_Post_Data2.xlsx\")\n",
    "\n",
    "# Run script\n",
    "login()\n",
    "likes, comments_data = scrape_post()\n",
    "save_to_excel(likes, comments_data)\n",
    "\n",
    "# Close browser\n",
    "driver.quit()\n",
    "print(\"Data extracted and saved successfully!\")\n"
   ]
  },
  {
   "cell_type": "code",
   "execution_count": 42,
   "id": "59a93b31",
   "metadata": {},
   "outputs": [
    {
     "name": "stdout",
     "output_type": "stream",
     "text": [
      "   Likes  Username  Comment\n",
      "0     29       NaN      NaN\n"
     ]
    }
   ],
   "source": [
    "import pandas as pd\n",
    "\n",
    "# Load the Excel file\n",
    "df = pd.read_excel(\"Instagram_Post_Data2.xlsx\")\n",
    "\n",
    "# Display the first few rows\n",
    "print(df.head())\n"
   ]
  },
  {
   "cell_type": "code",
   "execution_count": null,
   "id": "b45df304",
   "metadata": {},
   "outputs": [],
   "source": []
  }
 ],
 "metadata": {
  "kernelspec": {
   "display_name": "Python 3 (ipykernel)",
   "language": "python",
   "name": "python3"
  },
  "language_info": {
   "codemirror_mode": {
    "name": "ipython",
    "version": 3
   },
   "file_extension": ".py",
   "mimetype": "text/x-python",
   "name": "python",
   "nbconvert_exporter": "python",
   "pygments_lexer": "ipython3",
   "version": "3.8.8"
  },
  "toc": {
   "base_numbering": 1,
   "nav_menu": {},
   "number_sections": true,
   "sideBar": true,
   "skip_h1_title": false,
   "title_cell": "Table of Contents",
   "title_sidebar": "Contents",
   "toc_cell": false,
   "toc_position": {},
   "toc_section_display": true,
   "toc_window_display": false
  }
 },
 "nbformat": 4,
 "nbformat_minor": 5
}
